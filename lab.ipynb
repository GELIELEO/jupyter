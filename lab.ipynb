{
 "cells": [
  {
   "cell_type": "code",
   "execution_count": 16,
   "metadata": {},
   "outputs": [],
   "source": [
    "import Tkinter\n",
    "import tkMessageBox\n",
    "\n",
    "top = Tkinter.Tk()\n",
    "top.title(\"实验统计\")\n",
    "top.geometry(\"800x800+0+0\")\n",
    "\n",
    "but=[]\n",
    "\n",
    "def calbk():\n",
    "   tkMessageBox.showinfo( \"Hello Python\", \"Hello Runoob\")\n",
    "\n",
    "#生成控件,并放置主窗口\n",
    "for i in range(10):\n",
    "    but.append(Tkinter.Button (top,text =\"点我\",relief=Tkinter.SOLID,command = calbk))\n",
    "\n",
    "\n",
    "for j in but:\n",
    "    j.pack(side=Tkinter.LEFT,ipadx=100)\n",
    "    j.pack(side=Tkinter.TOP,ipadx=100)\n",
    "    \n",
    "#Tkinter.Label(text='hello', relief=Tkinter.RIDGE,width=15).grid(row=10,column=0)\n",
    "#but1 = Tkinter.Button (top,text =\"点我\",relief=Tkinter.SOLID,command = calbk).pack(fill=Tkinter.X,side=Tkinter.LEFT,pady=10)\n",
    "#but2 = Tkinter.Button (top,text =\"点我\",command = calbk, bg=\"red\", fg=\"white\").pack(ipadx=100,side=Tkinter.LEFT)\n",
    "\n",
    "# 进入消息循环\n",
    "top.mainloop()"
   ]
  },
  {
   "cell_type": "code",
   "execution_count": null,
   "metadata": {},
   "outputs": [
    {
     "name": "stdout",
     "output_type": "stream",
     "text": [
      "[<Tkinter.Button instance at 0x000000000A4FC188>, <Tkinter.Button instance at 0x000000000A515788>, <Tkinter.Button instance at 0x000000000A5152C8>, <Tkinter.Button instance at 0x000000000A52B288>, <Tkinter.Button instance at 0x0000000004C76E48>, <Tkinter.Button instance at 0x000000000A4DDB08>]\n"
     ]
    },
    {
     "name": "stderr",
     "output_type": "stream",
     "text": [
      "Exception in Tkinter callback\n",
      "Traceback (most recent call last):\n",
      "  File \"d:\\python27\\lib\\lib-tk\\Tkinter.py\", line 1541, in __call__\n",
      "    return self.func(*args)\n",
      "TypeError: callbk() takes no arguments (1 given)\n",
      "Exception in Tkinter callback\n",
      "Traceback (most recent call last):\n",
      "  File \"d:\\python27\\lib\\lib-tk\\Tkinter.py\", line 1541, in __call__\n",
      "    return self.func(*args)\n",
      "TypeError: callbk() takes no arguments (1 given)\n"
     ]
    }
   ],
   "source": [
    "from Tkinter import *\n",
    " \n",
    "colours = ['red','green','orange','white','yellow','blue']\n",
    "but=[]\n",
    "lab=[]\n",
    "\n",
    "def calbk():\n",
    "    print 'hh'\n",
    "\n",
    "r = 0\n",
    "for c in colours:\n",
    "    but.append(Button(text=c, relief=RIDGE,width=15))\n",
    "    lab.append(Label(text='0',bg=c, relief=SUNKEN,width=10))\n",
    "    \n",
    "    \n",
    "print but \n",
    "\n",
    "for i in range(6):\n",
    "    but[i].bind(\"<Button-1>\",callbk)\n",
    "    but[i].grid(row=r,column=0)\n",
    "    lab[i].grid(row=r,column=1)\n",
    "    r = r + 1\n",
    " \n",
    "mainloop()\n"
   ]
  },
  {
   "cell_type": "code",
   "execution_count": null,
   "metadata": {},
   "outputs": [],
   "source": []
  }
 ],
 "metadata": {
  "kernelspec": {
   "display_name": "Python 2",
   "language": "python",
   "name": "python2"
  },
  "language_info": {
   "codemirror_mode": {
    "name": "ipython",
    "version": 2
   },
   "file_extension": ".py",
   "mimetype": "text/x-python",
   "name": "python",
   "nbconvert_exporter": "python",
   "pygments_lexer": "ipython2",
   "version": "2.7.15"
  }
 },
 "nbformat": 4,
 "nbformat_minor": 2
}
