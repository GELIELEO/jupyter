{
 "cells": [
  {
   "cell_type": "code",
   "execution_count": null,
   "metadata": {},
   "outputs": [],
   "source": [
    "import Tkinter\n",
    "import tkMessageBox\n",
    "\n",
    "top = Tkinter.Tk()\n",
    "top.title(\"实验统计\")\n",
    "top.geometry(\"800x800+0+0\")\n",
    "\n",
    "but=[]\n",
    "\n",
    "def calbk():\n",
    "   tkMessageBox.showinfo( \"Hello Python\", \"Hello Runoob\")\n",
    "\n",
    "#生成控件,并放置主窗口\n",
    "for i in range(10):\n",
    "    but.append(Tkinter.Button (top,text =\"点我\",relief=Tkinter.SOLID,command = calbk).pack(side=Tkinter.LEFT,pady=10))\n",
    "\n",
    "#Tkinter.Label(text='hello', relief=Tkinter.RIDGE,width=15).grid(row=10,column=0)\n",
    "#but1 = Tkinter.Button (top,text =\"点我\",relief=Tkinter.SOLID,command = calbk).pack(fill=Tkinter.X,side=Tkinter.LEFT,pady=10)\n",
    "#but2 = Tkinter.Button (top,text =\"点我\",command = calbk, bg=\"red\", fg=\"white\").pack(ipadx=100,side=Tkinter.LEFT)\n",
    "\n",
    "# 进入消息循环\n",
    "top.mainloop()"
   ]
  },
  {
   "cell_type": "code",
   "execution_count": null,
   "metadata": {},
   "outputs": [],
   "source": []
  },
  {
   "cell_type": "code",
   "execution_count": null,
   "metadata": {},
   "outputs": [],
   "source": []
  }
 ],
 "metadata": {
  "kernelspec": {
   "display_name": "Python 2",
   "language": "python",
   "name": "python2"
  },
  "language_info": {
   "codemirror_mode": {
    "name": "ipython",
    "version": 2
   },
   "file_extension": ".py",
   "mimetype": "text/x-python",
   "name": "python",
   "nbconvert_exporter": "python",
   "pygments_lexer": "ipython2",
   "version": "2.7.15"
  }
 },
 "nbformat": 4,
 "nbformat_minor": 2
}
